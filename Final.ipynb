{
 "cells": [
  {
   "cell_type": "markdown",
   "id": "602f0a20",
   "metadata": {},
   "source": [
    "Lydia Holley\n",
    "\n",
    "BINF 6112\n",
    "\n",
    "lholley4@uncc.edu\n",
    "\n",
    "May 9, 2023"
   ]
  },
  {
   "cell_type": "markdown",
   "id": "982c6a26",
   "metadata": {},
   "source": [
    "## Part 1: Read in and Clean up\n",
    "\n",
    "- first thing is to import pandas\n",
    "- next import dataset as a pandas dataframe\n",
    "- drop the Na values\n",
    "- there was one data piece with double \"..\" and replaced that as well"
   ]
  },
  {
   "cell_type": "code",
   "execution_count": 50,
   "id": "36c723a0",
   "metadata": {},
   "outputs": [],
   "source": [
    "import pandas as pd\n",
    "\n",
    "water_quality = pd.read_csv(\"water_quality_readings.csv\").dropna().replace(\"67..1\",67.1)"
   ]
  },
  {
   "cell_type": "markdown",
   "id": "dc6a1202",
   "metadata": {},
   "source": [
    "## Part 2: OOP with Two Classes\n",
    "\n",
    "- first thing is to pick what the classes based on this data will look like\n",
    "- the thing I am most interested in is if the readings indicate a healthy environment\n",
    "- I researched the normal levels of these things for lakes\n",
    "- normal:\n",
    "    - between 6 and 8 pH\n",
    "    - between 6.5 and 8 dissolved oxygen\n",
    "    - between 32 and 88 degrees fahrenheit\n",
    "- Now decide which ways of testing these\n",
    "- Classes 1\n",
    "    - health of lake overall\n",
    "    - health of a specific testing site\n",
    "    - health of one singular reading\n",
    "- Class type 2\n",
    "    - comparing singular readings"
   ]
  },
  {
   "cell_type": "code",
   "execution_count": 73,
   "id": "32b9562b",
   "metadata": {},
   "outputs": [],
   "source": [
    "# lake overall is healthy\n",
    "class LakeHealth:\n",
    "    #initialize\n",
    "    def __init__(self,df):\n",
    "        self.df = df\n",
    "        \n",
    "    #test if healthy\n",
    "    def IsHealthy(self):\n",
    "        \n",
    "        #iterate through columns\n",
    "        for column in self.df:\n",
    "            \n",
    "            #find if pH is healthy and print message if yes or no\n",
    "            if column == \"ph reading\":\n",
    "                avg_pH = self.df[column].astype(float).mean()\n",
    "                if avg_pH > 6 and avg_pH < 8:\n",
    "                    print(\"this lake has a normal pH\")\n",
    "                elif avg_pH < 6:\n",
    "                    print(\"this lake is more acidic than normal\")\n",
    "                elif avg_pH > 8:\n",
    "                    print(\"this lake is more basic than normal\")  \n",
    "            \n",
    "            #find if O2 is healthy and print message if yes or no\n",
    "            elif column == \"dissolved oxygen\":\n",
    "                avg_O2 = self.df[column].astype(float).mean()\n",
    "                if avg_O2 > 6.5 and avg_O2 < 8:\n",
    "                    print(\"this lake has a normal oxygen level\")\n",
    "                elif avg_O2 < 6.5:\n",
    "                    print(\"this lake has less oxygen than normal\")\n",
    "                elif avg_O2 > 8:\n",
    "                    print(\"this lake has more oxygen than normal\")\n",
    "            \n",
    "            #find if temperature is healthy and print message if yes or no\n",
    "            elif column == \"temperature\":\n",
    "                avg_temp = self.df[column].astype(float).mean()\n",
    "                if avg_temp > 32 and avg_temp < 88:\n",
    "                    print(\"this lake has a normal temperature\")\n",
    "                elif avg_temp < 32:\n",
    "                    print(\"this lake has a lower temperature than normal\")\n",
    "                elif avg_temp > 88:\n",
    "                    print(\"this lake has a higher temperature than normal\")               "
   ]
  },
  {
   "cell_type": "code",
   "execution_count": 99,
   "id": "06d3d3f1",
   "metadata": {},
   "outputs": [
    {
     "name": "stdout",
     "output_type": "stream",
     "text": [
      "this lake has a normal pH\n",
      "this lake has a normal oxygen level\n",
      "this lake has a normal temperature\n"
     ]
    }
   ],
   "source": [
    "#test the class\n",
    "#yes the whole lake is healthy\n",
    "LakeHealth(water_quality).IsHealthy()"
   ]
  },
  {
   "cell_type": "code",
   "execution_count": 106,
   "id": "756dbe13",
   "metadata": {},
   "outputs": [],
   "source": [
    "# lake site is healthy\n",
    "class SiteHealth:\n",
    "    #initialize\n",
    "    def __init__(self,df):\n",
    "        self.df = df\n",
    "    \n",
    "    #test Site 1\n",
    "    def Site1_IsHealthy(self):\n",
    "        \n",
    "        #site 1 data\n",
    "        site1 = self.df[self.df[\"station numer\"] == 1.0]\n",
    "        \n",
    "        #iterate through columns\n",
    "        for column in site1:     \n",
    "            #find if pH is healthy and print message if yes or no\n",
    "            if column == \"ph reading\":\n",
    "                avg_pH = site1[column].astype(float).mean()\n",
    "                if avg_pH > 6 and avg_pH < 8:\n",
    "                    print(\"Site 1 has a normal pH\")\n",
    "                elif avg_pH < 6:\n",
    "                    print(\"Site 1 is more acidic than normal\")\n",
    "                elif avg_pH > 8:\n",
    "                    print(\"Site 1 is more basic than normal\") \n",
    "                    \n",
    "            #find if O2 is healthy and print message if yes or no        \n",
    "            elif column == \"dissolved oxygen\":\n",
    "                avg_O2 = site1[column].astype(float).mean()\n",
    "                if avg_O2 > 6.5 and avg_O2 < 8:\n",
    "                    print(\"Site 1 has a normal oxygen level\")\n",
    "                elif avg_O2 < 6.5:\n",
    "                    print(\"Site 1 has less oxygen than normal\")\n",
    "                elif avg_O2 > 8:\n",
    "                    print(\"Site 1 has more oxygen than normal\")\n",
    "            \n",
    "            #find if temp is healthy and print message if yes or no\n",
    "            elif column == \"temperature\":\n",
    "                avg_temp = site1[column].astype(float).mean()\n",
    "                if avg_temp > 32 and avg_temp < 88:\n",
    "                    print(\"Site 1 has a normal temperature\")\n",
    "                elif avg_temp < 32:\n",
    "                    print(\"Site 1 has a lower temperature than normal\")\n",
    "                elif avg_temp > 88:\n",
    "                    print(\"Site 1 has a higher temperature than normal\")  \n",
    "    \n",
    "    #test site 2\n",
    "    def Site2_IsHealthy(self):\n",
    "        #site 2 data\n",
    "        site2 = self.df[self.df[\"station numer\"] == 2.0]     \n",
    "        \n",
    "        #iterate through columns\n",
    "        for column in site2: \n",
    "            \n",
    "            #find if pH is healthy and print message if yes or no\n",
    "            if column == \"ph reading\":\n",
    "                avg_pH = site2[column].astype(float).mean()\n",
    "                if avg_pH > 6 and avg_pH < 8:\n",
    "                    print(\"Site 2 has a normal pH\")\n",
    "                elif avg_pH < 6:\n",
    "                    print(\"Site 2 is more acidic than normal\")\n",
    "                elif avg_pH > 8:\n",
    "                    print(\"Site 2 is more basic than normal\")  \n",
    "            \n",
    "            #find if O2 is healthy and print message if yes or no\n",
    "            elif column == \"dissolved oxygen\":\n",
    "                avg_O2 = site2[column].astype(float).mean()\n",
    "                if avg_O2 > 6.5 and avg_O2 < 8:\n",
    "                    print(\"Site 2 has a normal oxygen level\")\n",
    "                elif avg_O2 < 6.5:\n",
    "                    print(\"Site 2 has less oxygen than normal\")\n",
    "                elif avg_O2 > 8:\n",
    "                    print(\"Site 2 has more oxygen than normal\")\n",
    "            \n",
    "            #find if temp is healthy and print message if yes or no\n",
    "            elif column == \"temperature\":\n",
    "                avg_temp = site2[column].astype(float).mean()\n",
    "                if avg_temp > 32 and avg_temp < 88:\n",
    "                    print(\"Site 2 has a normal temperature\")\n",
    "                elif avg_temp < 32:\n",
    "                    print(\"Site 2 has a lower temperature than normal\")\n",
    "                elif avg_temp > 88:\n",
    "                    print(\"Site 2 has a higher temperature than normal\")  \n",
    "    \n",
    "    #test site 3\n",
    "    def Site3_IsHealthy(self):\n",
    "        #site 3 data\n",
    "        site3 = self.df[self.df[\"station numer\"] == 3.0]\n",
    "         \n",
    "        #iterate through columns\n",
    "        for column in site3:   \n",
    "            \n",
    "            #find if pH is healthy and print message if yes or no\n",
    "            if column == \"ph reading\":\n",
    "                avg_pH = site3[column].astype(float).mean()\n",
    "                if avg_pH > 6 and avg_pH < 8:\n",
    "                    print(\"Site 3 has a normal pH\")\n",
    "                elif avg_pH < 6:\n",
    "                    print(\"Site 3 is more acidic than normal\")\n",
    "                elif avg_pH > 8:\n",
    "                    print(\"Site 3 is more basic than normal\")  \n",
    "            \n",
    "            #find if O2 is healthy and print message if yes or no        \n",
    "            elif column == \"dissolved oxygen\":\n",
    "                avg_O2 = site3[column].astype(float).mean()\n",
    "                if avg_O2 > 6.5 and avg_O2 < 8:\n",
    "                    print(\"Site 3 has a normal oxygen level\")\n",
    "                elif avg_O2 < 6.5:\n",
    "                    print(\"Site 3 has less oxygen than normal\")\n",
    "                elif avg_O2 > 8:\n",
    "                    print(\"Site 3 has more oxygen than normal\")\n",
    "            \n",
    "            #find if temp is healthy and print message if yes or no\n",
    "            elif column == \"temperature\":\n",
    "                avg_temp = site3[column].astype(float).mean()\n",
    "                if avg_temp > 32 and avg_temp < 88:\n",
    "                    print(\"Site 3 has a normal temperature\")\n",
    "                elif avg_temp < 32:\n",
    "                    print(\"Site 3 has a lower temperature than normal\")\n",
    "                elif avg_temp > 88:\n",
    "                    print(\"Site 3 has a higher temperature than normal\") \n",
    "\n",
    "    #test site 4\n",
    "    def Site4_IsHealthy(self):\n",
    "        \n",
    "        #site 4 data\n",
    "        site4 = self.df[self.df[\"station numer\"] == 4.0]\n",
    "        \n",
    "        #iterate through columns\n",
    "        for column in site4:  \n",
    "            \n",
    "            #find if pH is healthy and print message if yes or no\n",
    "            if column == \"ph reading\":\n",
    "                avg_pH = site4[column].astype(float).mean()\n",
    "                if avg_pH > 6 and avg_pH < 8:\n",
    "                    print(\"Site 4 has a normal pH\")\n",
    "                elif avg_pH < 6:\n",
    "                    print(\"Site 4 is more acidic than normal\")\n",
    "                elif avg_pH > 8:\n",
    "                    print(\"Site 4 is more basic than normal\")  \n",
    "            \n",
    "            #find if O2 is healthy and print message if yes or no\n",
    "            elif column == \"dissolved oxygen\":\n",
    "                avg_O2 = site4[column].astype(float).mean()\n",
    "                if avg_O2 > 6.5 and avg_O2 < 8:\n",
    "                    print(\"Site 4 has a normal oxygen level\")\n",
    "                elif avg_O2 < 6.5:\n",
    "                    print(\"Site 4 has less oxygen than normal\")\n",
    "                elif avg_O2 > 8:\n",
    "                    print(\"Site 4 has more oxygen than normal\")\n",
    "            \n",
    "            #find if temp is healthy and print message if yes or no\n",
    "            elif column == \"temperature\":\n",
    "                avg_temp = site4[column].astype(float).mean()\n",
    "                if avg_temp > 32 and avg_temp < 88:\n",
    "                    print(\"Site 4 has a normal temperature\")\n",
    "                elif avg_temp < 32:\n",
    "                    print(\"Site 4 has a lower temperature than normal\")\n",
    "                elif avg_temp > 88:\n",
    "                    print(\"Site 4 has a higher temperature than normal\") "
   ]
  },
  {
   "cell_type": "code",
   "execution_count": 107,
   "id": "7fafb1f1",
   "metadata": {
    "scrolled": false
   },
   "outputs": [
    {
     "name": "stdout",
     "output_type": "stream",
     "text": [
      "Site 1 has a normal pH\n",
      "Site 1 has a normal oxygen level\n",
      "Site 1 has a normal temperature\n",
      "\n",
      "\n",
      "Site 2 has a normal pH\n",
      "Site 2 has a normal oxygen level\n",
      "Site 2 has a normal temperature\n",
      "\n",
      "\n",
      "Site 3 has a normal pH\n",
      "Site 3 has a normal oxygen level\n",
      "Site 3 has a normal temperature\n",
      "\n",
      "\n",
      "Site 4 has a normal pH\n",
      "Site 4 has a normal oxygen level\n",
      "Site 4 has a normal temperature\n"
     ]
    }
   ],
   "source": [
    "SiteHealth(water_quality).Site1_IsHealthy()\n",
    "print(\"\\n\")\n",
    "SiteHealth(water_quality).Site2_IsHealthy()\n",
    "print(\"\\n\")\n",
    "SiteHealth(water_quality).Site3_IsHealthy()\n",
    "print(\"\\n\")\n",
    "SiteHealth(water_quality).Site4_IsHealthy()"
   ]
  },
  {
   "cell_type": "code",
   "execution_count": 95,
   "id": "55068704",
   "metadata": {},
   "outputs": [],
   "source": [
    "# lake reading is healthy\n",
    "class ReadingHealth:\n",
    "\n",
    "    #initialize\n",
    "    def __init__(self,ds):\n",
    "        self.ds = ds\n",
    "  \n",
    "    #test health of reading\n",
    "    def IsHealthy(self):\n",
    "        #find if pH is healthy and print message if yes or no     \n",
    "        pH = float(self.ds[\"ph reading\"])\n",
    "        if pH > 6 and pH < 8:\n",
    "            print(\"this reading has a normal pH\")\n",
    "        elif pH < 6:\n",
    "            print(\"this reading is more acidic than normal\")\n",
    "        elif pH > 8:\n",
    "            print(\"this reading is more basic than normal\")  \n",
    "        \n",
    "        #find if O2 is healthy and print message if yes or no\n",
    "        O2 = float(self.ds[\"dissolved oxygen\"])\n",
    "        if O2 > 6.5 and O2 < 8:\n",
    "            print(\"this reading has a normal oxygen level\")\n",
    "        elif O2 < 6.5:\n",
    "            print(\"this reading has less oxygen than normal\")\n",
    "        elif O2 > 8:\n",
    "            print(\"this reading has more oxygen than normal\")\n",
    "        \n",
    "        #find if temp is healthy and print message if yes or no\n",
    "        temp = float(self.ds[\"temperature\"])\n",
    "        if temp > 32 and temp < 88:\n",
    "            print(\"this reading has a normal temperature\")\n",
    "        elif temp < 32:\n",
    "            print(\"this reading has a lower temperature than normal\")\n",
    "        elif temp > 88:\n",
    "            print(\"this reading has a higher temperature than normal\") "
   ]
  },
  {
   "cell_type": "code",
   "execution_count": 98,
   "id": "91118bbe",
   "metadata": {
    "scrolled": false
   },
   "outputs": [
    {
     "name": "stdout",
     "output_type": "stream",
     "text": [
      "this reading is more basic than normal\n",
      "this reading has more oxygen than normal\n",
      "this reading has a normal temperature\n"
     ]
    }
   ],
   "source": [
    "ReadingHealth(water_quality.loc[0]).IsHealthy()"
   ]
  },
  {
   "cell_type": "code",
   "execution_count": 100,
   "id": "9dabf516",
   "metadata": {},
   "outputs": [
    {
     "name": "stdout",
     "output_type": "stream",
     "text": [
      "this reading has a normal pH\n",
      "this reading has a normal oxygen level\n",
      "this reading has a normal temperature\n"
     ]
    }
   ],
   "source": [
    "ReadingHealth(water_quality.loc[4]).IsHealthy()"
   ]
  },
  {
   "cell_type": "code",
   "execution_count": 101,
   "id": "c56d3af9",
   "metadata": {},
   "outputs": [
    {
     "name": "stdout",
     "output_type": "stream",
     "text": [
      "this reading has a normal pH\n",
      "this reading has more oxygen than normal\n",
      "this reading has a normal temperature\n"
     ]
    }
   ],
   "source": [
    "ReadingHealth(water_quality.loc[12]).IsHealthy()"
   ]
  },
  {
   "cell_type": "markdown",
   "id": "c821d59a",
   "metadata": {},
   "source": [
    "## Notes\n",
    "\n",
    "- I would have liked to have created a \"Readings' class that held the data series and then was able to be passed into the ReadingHealth class and another part of it would be the ability to compare two Readings types against each other, for example to discover if one reading is more healhty than the other. I did not end up having time to make this work, but I think a class of Readings would have been helpful.\n",
    "- I would have liked to added more methods within each class, but again just didn't have the time\n",
    "- I would have liked to have created a ReadingsRecords class like we did with sequences where readings could be added together and kept as a collection\n",
    "\n",
    "p.s. I had to get a foreign object that had embedded into my pupil removed from my eye earlier today. It's not that bad and I can see mostly, but I do apologize for any small spelling errors (the code works so I think it's fine just thought I'd share). I have a doctors note if needed."
   ]
  }
 ],
 "metadata": {
  "kernelspec": {
   "display_name": "Python 3 (ipykernel)",
   "language": "python",
   "name": "python3"
  },
  "language_info": {
   "codemirror_mode": {
    "name": "ipython",
    "version": 3
   },
   "file_extension": ".py",
   "mimetype": "text/x-python",
   "name": "python",
   "nbconvert_exporter": "python",
   "pygments_lexer": "ipython3",
   "version": "3.9.13"
  }
 },
 "nbformat": 4,
 "nbformat_minor": 5
}
