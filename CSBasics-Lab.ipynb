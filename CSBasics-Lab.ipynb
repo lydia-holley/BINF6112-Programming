{
 "cells": [
  {
   "cell_type": "markdown",
   "metadata": {},
   "source": [
    "Name: Lydia Holley\n",
    "Email: lholley4@uncc.edu"
   ]
  },
  {
   "cell_type": "markdown",
   "metadata": {},
   "source": [
    "# Sorting algorithms\n",
    "\n",
    "In this lab, you'll be completing two tasks. In the first section, you'll be writing your own implementation of a simple sorthing algorithm, the Bubble Sort. In the second part, you'll using Jupyter magics to compare the performance of your Bubble Sort function to the built-in sorting function, and draw conclusions based on sorting of different sized lists.\n"
   ]
  },
  {
   "cell_type": "markdown",
   "metadata": {},
   "source": [
    "## Part 1 - Bubble Sort\n",
    "\n",
    "Bubble sort is a simple sorting algorithm that works be comparing two numbers at a time (the bubble), and swapping their positions (if necessary) before sliding the bubble down and comparing the next two. A basic pseudocode implementation for a small list might like look this.\n",
    "\n",
    "For list [5,2,3,7]:\n",
    "    - Compare 5 and 2\n",
    "    - 5 is larger than two, so swap their positions (list is now 2,5,3,7)\n",
    "    - Slide the bubble one position, compare 5 and 3\n",
    "    - 5 is larger than 3, so swap their position (list is now 2,3,5,7)\n",
    "    - Compare 5 and 7. No swap needed\n",
    "    - We have reached the end of the list, so go back to the start and begin comparisons again.\n",
    "    - The bubble can do one less slide this time. The largest number guaranteed to be in the last position, so we don't need to evaluate it.\n",
    "    \n",
    "    \n",
    "See this resource for a visualization of how this algorithm works https://visualgo.net/en/sorting\n",
    "    "
   ]
  },
  {
   "cell_type": "code",
   "execution_count": 1,
   "metadata": {},
   "outputs": [
    {
     "name": "stdout",
     "output_type": "stream",
     "text": [
      "[1, 2, 3, 4, 5, 7]\n"
     ]
    }
   ],
   "source": [
    "def bubble_sort(lst):\n",
    "    for i in range(len(lst)): # outer loop\n",
    "        for j in range(i+1,len(lst)): # inner loop\n",
    "            if lst[i] > lst[j]: # if left variable is bigger than right variable\n",
    "                lst[i],lst[j] = lst[j],lst[i] #swap them. must use tuple assignment or the swap will cause the lower number to be in the new list twice              \n",
    "    print(lst) # print to ensure code worked\n",
    "                \n",
    "lst = [5,2,3,7,1,4]\n",
    "bubble_sort(lst)\n",
    "\n",
    "#I used my code from the sort assignment last semester"
   ]
  },
  {
   "cell_type": "markdown",
   "metadata": {},
   "source": [
    "## Part 2 - Comparing Sorts\n",
    "\n",
    "Now that you have a working Bubble Sort, compare it's performance with the built in .sort() function that lists have. For this comparision, use the %time magic to see how long each method takes to sort a list of random numbers. Run this comparison a number of times across a variety of list lengths. What conclusions can you draw based on these comparisons?\n",
    "\n",
    "You can use .copy() on a list to create a copy of a list of random numbers to be used for sorting. This is helpful because you wouldn't want to pass an already sorted list from one function to the other.\n",
    "\n",
    "Use this section to experiment with markdown cells as a way to present the results of your comparisons."
   ]
  },
  {
   "cell_type": "code",
   "execution_count": 1,
   "metadata": {},
   "outputs": [],
   "source": [
    "import random"
   ]
  },
  {
   "cell_type": "markdown",
   "metadata": {},
   "source": [
    "# Bubble Sort Time"
   ]
  },
  {
   "cell_type": "code",
   "execution_count": 14,
   "metadata": {},
   "outputs": [
    {
     "name": "stdout",
     "output_type": "stream",
     "text": [
      "CPU times: user 3.21 s, sys: 10 ms, total: 3.22 s\n",
      "Wall time: 3.22 s\n"
     ]
    }
   ],
   "source": [
    "%%time \n",
    "#%time is for one line %%time is for the whole cell\n",
    "\n",
    "lstb=[]\n",
    "n=10000\n",
    "for i in range(n):\n",
    "    lstb.append(random.randint(0,9))\n",
    "\n",
    "def bubble_sort(lstb):\n",
    "    for i in range(len(lstb)): # outer loop\n",
    "        for j in range(i+1,len(lstb)): # inner loop\n",
    "            if lstb[i] > lstb[j]: # if left variable is bigger than right variable\n",
    "                lstb[i],lstb[j] = lstb[j],lstb[i] #swap them. must use tuple assignment or the swap will cause the lower number to be in the new list twice              \n",
    "    #print(lstb) # print to ensure code worked\n",
    "                \n",
    "bubble_sort(lstb)"
   ]
  },
  {
   "cell_type": "markdown",
   "metadata": {},
   "source": [
    "# .sort() Time"
   ]
  },
  {
   "cell_type": "code",
   "execution_count": 15,
   "metadata": {},
   "outputs": [
    {
     "name": "stdout",
     "output_type": "stream",
     "text": [
      "CPU times: user 106 ms, sys: 3.11 ms, total: 109 ms\n",
      "Wall time: 109 ms\n"
     ]
    }
   ],
   "source": [
    "%%time \n",
    "#%time is for one line %%time is for the whole cell\n",
    "\n",
    "lsts=[]\n",
    "n=100000\n",
    "for i in range(n):\n",
    "    lsts.append(random.randint(0,9))\n",
    "\n",
    "\n",
    "lsts.sort()\n",
    "#print(lsts)"
   ]
  },
  {
   "cell_type": "markdown",
   "metadata": {},
   "source": [
    "### lst = [5,2,3,7,1,4]\n",
    "Bubble sort time : \n",
    "CPU times: user 361 µs, sys: 74 µs, total: 435 µs\n",
    "Wall time: 431 µs\n",
    "    \n",
    ".sort() : \n",
    "CPU times: user 29 µs, sys: 1 µs, total: 30 µs\n",
    "Wall time: 35 µs"
   ]
  },
  {
   "cell_type": "markdown",
   "metadata": {},
   "source": [
    "### lst of length 10\n",
    "bubble sort time:\n",
    "CPU times: user 418 µs, sys: 87 µs, total: 505 µs\n",
    "Wall time: 494 µs\n",
    "\n",
    ".sort() time:\n",
    "CPU times: user 354 µs, sys: 85 µs, total: 439 µs\n",
    "Wall time: 429 µs"
   ]
  },
  {
   "cell_type": "markdown",
   "metadata": {},
   "source": [
    "### lst of length 100\n",
    "Bubble sort time:\n",
    "CPU times: user 1.82 ms, sys: 397 µs, total: 2.21 ms\n",
    "Wall time: 2.15 ms\n",
    "\n",
    ".sort() time:\n",
    "CPU times: user 617 µs, sys: 100 µs, total: 717 µs\n",
    "Wall time: 713 µs"
   ]
  },
  {
   "cell_type": "markdown",
   "metadata": {},
   "source": [
    "### lst of length 1,000\n",
    "Bubble sort time:\n",
    "CPU times: user 69.8 ms, sys: 2.84 ms, total: 72.7 ms\n",
    "Wall time: 70.6 ms\n",
    "\n",
    ".sort() time:\n",
    "CPU times: user 2.92 ms, sys: 89 µs, total: 3.01 ms\n",
    "Wall time: 2.96 ms"
   ]
  },
  {
   "cell_type": "markdown",
   "metadata": {},
   "source": [
    "### lst of length 10,000\n",
    "Bubble sort time:\n",
    "CPU times: user 3.17 s, sys: 17.9 ms, total: 3.19 s\n",
    "Wall time: 3.19 s\n",
    "\n",
    ".sort() time:\n",
    "CPU times: user 21 ms, sys: 617 µs, total: 21.6 ms\n",
    "Wall time: 21.6 ms"
   ]
  },
  {
   "cell_type": "markdown",
   "metadata": {},
   "source": [
    "### discussion\n",
    "\n",
    "The .sort() function had a significantly faster runtime than bubble sort for each list length that I tried.\n",
    "The bubble sort takes longer bc it sorts by comparing two numbers and then goes through the list again for the number of times of the length of the list."
   ]
  },
  {
   "cell_type": "markdown",
   "metadata": {},
   "source": [
    "\n"
   ]
  }
 ],
 "metadata": {
  "kernelspec": {
   "display_name": "Python 3 (ipykernel)",
   "language": "python",
   "name": "python3"
  },
  "language_info": {
   "codemirror_mode": {
    "name": "ipython",
    "version": 3
   },
   "file_extension": ".py",
   "mimetype": "text/x-python",
   "name": "python",
   "nbconvert_exporter": "python",
   "pygments_lexer": "ipython3",
   "version": "3.9.13"
  }
 },
 "nbformat": 4,
 "nbformat_minor": 2
}
