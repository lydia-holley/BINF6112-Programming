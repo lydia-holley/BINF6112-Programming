{
 "cells": [
  {
   "cell_type": "markdown",
   "metadata": {},
   "source": [
    "Subtract the 1D Array *arr2* from the 2D array *arr1*, such that each item of *arr2* subtracts from respective row of *arr1*\n",
    "\n",
    "Ex\n",
    "\n",
    "arr1 = `[[x1, x2 , x3], [y1, y2, y3], [z1,z2,z3]]`\n",
    "\n",
    "arr2 = `[x,y,z]`\n",
    "\n",
    "Result `[ [ x1-x, x2-x, x3-x],` etc"
   ]
  },
  {
   "cell_type": "code",
   "execution_count": 9,
   "metadata": {
    "scrolled": true
   },
   "outputs": [
    {
     "name": "stdout",
     "output_type": "stream",
     "text": [
      "[[0. 1. 2.]\n",
      " [2. 3. 4.]\n",
      " [4. 5. 6.]]\n",
      "[[0 1 2]\n",
      " [2 3 4]\n",
      " [4 5 6]]\n"
     ]
    }
   ],
   "source": [
    "import numpy as np\n",
    "\n",
    "arr1 = np.arange(9).reshape(3,3)\n",
    "arr2 = np.arange(3)\n",
    "final = np.empty(9).reshape(3,3)\n",
    "\n",
    "# print(arr1)\n",
    "# print(arr2)\n",
    "# print(arr3)\n",
    "\n",
    "for i in range(arr1.shape[0]):\n",
    "    for j in range(arr1.shape[1]):\n",
    "        final[i][j] = arr1[i][j] - arr2[i]\n",
    "        \n",
    "print(final)       \n",
    "\n",
    "for i in range(len(arr2)):\n",
    "    arr1[i] = arr1[i] - arr2[i]\n",
    "    \n",
    "print(arr1)"
   ]
  },
  {
   "cell_type": "markdown",
   "metadata": {},
   "source": [
    "Given a 1D Array, find the local maxima (numbers surrounded by 2 smaller numbers)"
   ]
  },
  {
   "cell_type": "code",
   "execution_count": 18,
   "metadata": {},
   "outputs": [
    {
     "name": "stdout",
     "output_type": "stream",
     "text": [
      "12\n",
      "5\n",
      "9\n"
     ]
    }
   ],
   "source": [
    "arr3 = np.array([10, 2, 12, 4, 5, 1, 7, 8, 9, 6, 11])\n",
    "\n",
    "#print(arr3[0]-2) \n",
    "for i in range(1,arr3.shape[0]-1):\n",
    "    if arr3[i] > arr3[i-1] and arr3[i] > arr3[i+1]:\n",
    "        print(arr3[i])"
   ]
  },
  {
   "cell_type": "markdown",
   "metadata": {},
   "source": [
    "Given two n x m Arrays, compute the average of elements in matching subarrays\n",
    "\n",
    "Ex\n",
    "\n",
    "arr1      \n",
    "`[[1,1],[2,2],[3,3]]`\n",
    "\n",
    "arr2      \n",
    "`[[1,1],[2,2],[3,3]]`\n",
    "\n",
    "result:\n",
    "`[1,2,3]`\n",
    "\n",
    "or\n",
    "\n",
    "Ex\n",
    "\n",
    "arr1      \n",
    "`[[3,3],[2,2],[10,10]]`\n",
    "\n",
    "arr2      \n",
    "`[[1,1],[2,2],[3,3]]`\n",
    "\n",
    "result:\n",
    "`[2,2,6.5]`"
   ]
  },
  {
   "cell_type": "code",
   "execution_count": 23,
   "metadata": {},
   "outputs": [
    {
     "data": {
      "text/plain": [
       "array([2. , 2. , 6.5])"
      ]
     },
     "execution_count": 23,
     "metadata": {},
     "output_type": "execute_result"
    }
   ],
   "source": [
    "a1 = np.array(([1,1],[2,2],[3,3]))\n",
    "a2 = np.array(([3,3],[2,2],[10,10]))\n",
    "a3 = np.zeros(3)\n",
    "#(sum(a1[0]) + sum(a2[0]))/ (len(a1[0])*2)\n",
    "for i in range(3):\n",
    "    a3[i] = (sum(a1[i]) + sum(a2[i]))/ (len(a1[i])*2)\n",
    "    \n",
    "a3"
   ]
  },
  {
   "cell_type": "code",
   "execution_count": null,
   "metadata": {},
   "outputs": [],
   "source": []
  }
 ],
 "metadata": {
  "kernelspec": {
   "display_name": "Python 3 (ipykernel)",
   "language": "python",
   "name": "python3"
  },
  "language_info": {
   "codemirror_mode": {
    "name": "ipython",
    "version": 3
   },
   "file_extension": ".py",
   "mimetype": "text/x-python",
   "name": "python",
   "nbconvert_exporter": "python",
   "pygments_lexer": "ipython3",
   "version": "3.9.13"
  }
 },
 "nbformat": 4,
 "nbformat_minor": 4
}
