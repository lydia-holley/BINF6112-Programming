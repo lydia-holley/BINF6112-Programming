{
 "cells": [
  {
   "cell_type": "markdown",
   "metadata": {},
   "source": [
    "Name: Lydia Holley\n",
    "\n",
    "Email: lholley4@uncc.edu\n",
    "\n",
    "## Write the Comprehensions that answer the following questions"
   ]
  },
  {
   "cell_type": "markdown",
   "metadata": {},
   "source": [
    "### 1.\n",
    "\n",
    "Use a comprehension to filter invalid bases (not ATGC) from a sequence"
   ]
  },
  {
   "cell_type": "code",
   "execution_count": 51,
   "metadata": {},
   "outputs": [
    {
     "data": {
      "text/plain": [
       "'ATGACGA'"
      ]
     },
     "execution_count": 51,
     "metadata": {},
     "output_type": "execute_result"
    }
   ],
   "source": [
    "seq1 = \"ATGNAZCGA\"\n",
    "# results should be ATGACGA\n",
    "\n",
    "lst1 = ''.join([seq1[i] for i in range(len(seq1)) if (seq1[i] in 'ATCG')])\n",
    "lst1"
   ]
  },
  {
   "cell_type": "markdown",
   "metadata": {},
   "source": [
    "## 2.\n",
    "\n",
    "Given a dictionary of headers and sequences, for example\n",
    "`d1 = {'seq1':\"ATCGA\", 'seq2':\"GCAGTA\", 'seq3':\"GCGCGCCGCGCTGACATCGA\"}`\n",
    "Build a generator comprehension that will yield sequences longer than a certain number\n"
   ]
  },
  {
   "cell_type": "code",
   "execution_count": 52,
   "metadata": {},
   "outputs": [
    {
     "data": {
      "text/plain": [
       "['GCAGTA', 'GCGCGCCGCGCTGACATCGA']"
      ]
     },
     "execution_count": 52,
     "metadata": {},
     "output_type": "execute_result"
    }
   ],
   "source": [
    "d2 = {'seq1':\"ATCGA\", 'seq2':\"GCAGTA\", 'seq3':\"GCGCGCCGCGCTGACATCGA\"}\n",
    "\n",
    "min_seq_length = list(seq2 for key2,seq2 in d2.items() if len(seq2) > 5)\n",
    "min_seq_length"
   ]
  },
  {
   "cell_type": "markdown",
   "metadata": {},
   "source": [
    "## 3.\n",
    "\n",
    "Given a dictionary of headers and sequences, for example\n",
    "`d1 = {'seq1':\"ATCGA\", 'seq2':\"GCAGTA\", 'seq3':\"GCGCGCCGCGCTGACATCGA\"}`\n",
    "Build a comprehension that will create a list of sequences with GC Content higher than 45%"
   ]
  },
  {
   "cell_type": "code",
   "execution_count": 1,
   "metadata": {},
   "outputs": [
    {
     "data": {
      "text/plain": [
       "['GCAGTA', 'GCGCGCCGCGCTGACATCGA']"
      ]
     },
     "execution_count": 1,
     "metadata": {},
     "output_type": "execute_result"
    }
   ],
   "source": [
    "d3 = {'seq1':\"ATCGA\", 'seq2':\"GCAGTA\", 'seq3':\"GCGCGCCGCGCTGACATCGA\"}\n",
    "\n",
    "gc_content = [seq3 for key3,seq3 in d3.items() if ((seq3.count(\"G\")+ seq3.count(\"C\"))/len(seq3))>0.45]\n",
    "gc_content"
   ]
  },
  {
   "cell_type": "markdown",
   "metadata": {},
   "source": [
    "## 4.\n",
    "Given a passage, first create a function that will return the number of unique vowels in a string. Then, create a comprehension that will build a list of words in the passage that contain at least 3 unique vowels"
   ]
  },
  {
   "cell_type": "code",
   "execution_count": 14,
   "metadata": {},
   "outputs": [],
   "source": [
    "passage = \"\"\"Once upon a midnight dreary while I pondered weak and weary Over many a quaint and curious volume of forgotten lore While I nodded nearly napping suddenly there came a tapping As of some one gently rapping rapping at my chamber door Tis some visitor I muttered tapping at my chamber door Only this and nothing more\"\"\""
   ]
  },
  {
   "cell_type": "code",
   "execution_count": 3,
   "metadata": {},
   "outputs": [
    {
     "data": {
      "text/plain": [
       "{'a': 23, 'e': 27, 'i': 19, 'o': 23, 'u': 7}"
      ]
     },
     "execution_count": 3,
     "metadata": {},
     "output_type": "execute_result"
    }
   ],
   "source": [
    "#function that returns number of each vowel\n",
    "def unique_vowels():\n",
    "    vowels1 = {'a': 0, 'e': 0, 'i': 0, 'o': 0, 'u': 0}\n",
    "    for char in passage.lower():\n",
    "        if char in vowels1.keys():\n",
    "            vowels1[char] += 1\n",
    "\n",
    "    vowels1\n",
    "#{'a': 23, 'e': 27, 'i': 19, 'o': 23, 'u': 7}\n",
    "#this means none of the vowels are unique"
   ]
  },
  {
   "cell_type": "code",
   "execution_count": 51,
   "metadata": {},
   "outputs": [],
   "source": [
    "#function that returns all the words with unique vowels only\n",
    "\n",
    "def unique_words():\n",
    "    passage2 = passage.lower().split(\" \")\n",
    "    unique_words = []\n",
    "    for word in passage2:\n",
    "        vowels2 = {}\n",
    "        unique = False\n",
    "        for char in word:\n",
    "            if char in ['a', 'e', 'i', 'o', 'u']:\n",
    "                if char in vowels2.keys():\n",
    "                    vowels2[char] += 1\n",
    "                else:\n",
    "                    vowels2[char] = 1\n",
    "        for key,val in vowels2.items():\n",
    "            if val <= 1:\n",
    "                unique = True\n",
    "                continue\n",
    "            else:\n",
    "                unique = False\n",
    "                break\n",
    "        if unique:\n",
    "            unique_words.append(word)\n",
    "            \n",
    "    return unique_words\n",
    "\n",
    "unique_words = unique_words()"
   ]
  },
  {
   "cell_type": "code",
   "execution_count": 52,
   "metadata": {},
   "outputs": [
    {
     "data": {
      "text/plain": [
       "['quaint', 'volume']"
      ]
     },
     "execution_count": 52,
     "metadata": {},
     "output_type": "execute_result"
    }
   ],
   "source": [
    "#comprehension\n",
    "#should return only quaint and volume\n",
    "\n",
    "q4 = list(word for word in unique_words if ((word.count(\"a\")+ word.count(\"e\") + word.count(\"i\")+ word.count(\"o\") + word.count(\"u\")) >= 3))\n",
    "q4"
   ]
  },
  {
   "cell_type": "markdown",
   "metadata": {},
   "source": [
    "## 5\n",
    "\n",
    "Write a comprehension that will generate the reverse complement of a sequence.\n",
    "\n",
    "\"ATCGACGA\" would be 'TCGTCGAT'"
   ]
  },
  {
   "cell_type": "code",
   "execution_count": 63,
   "metadata": {},
   "outputs": [
    {
     "data": {
      "text/plain": [
       "'TCGTCGAT'"
      ]
     },
     "execution_count": 63,
     "metadata": {},
     "output_type": "execute_result"
    }
   ],
   "source": [
    "seq5 = \"ATCGACGA\"\n",
    "\n",
    "reverse = ''.join([\"A\" if seq5[i]==\"T\" else \"T\" if seq5[i]==\"A\" else \"G\" if seq5[i]==\"C\" else \"C\" if seq5[i]==\"G\" else \"\" for i in range(len(seq5)-1,-1,-1)])\n",
    "reverse"
   ]
  }
 ],
 "metadata": {
  "kernelspec": {
   "display_name": "Python 3 (ipykernel)",
   "language": "python",
   "name": "python3"
  },
  "language_info": {
   "codemirror_mode": {
    "name": "ipython",
    "version": 3
   },
   "file_extension": ".py",
   "mimetype": "text/x-python",
   "name": "python",
   "nbconvert_exporter": "python",
   "pygments_lexer": "ipython3",
   "version": "3.9.13"
  }
 },
 "nbformat": 4,
 "nbformat_minor": 2
}
